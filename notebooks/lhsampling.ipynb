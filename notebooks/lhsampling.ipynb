{
 "cells": [
  {
   "cell_type": "code",
   "execution_count": 44,
   "metadata": {},
   "outputs": [],
   "source": [
    "import numpy as np\n",
    "import pandas as pd\n",
    "import xml.etree.ElementTree as ET"
   ]
  },
  {
   "cell_type": "code",
   "execution_count": 47,
   "metadata": {},
   "outputs": [],
   "source": [
    "# Create a dataframe from the results of a BehaviorSpace experiment\n",
    "def create_xml_file(filename, experiment_name, repetitions, run_metrics_every_step, \n",
    "                    setup_command, go_command, time_limit_steps, metrics, run_metrics_condition, enumerated_values):\n",
    "    # Create the root element\n",
    "    experiments = ET.Element(\"experiments\")\n",
    "    \n",
    "    # Create the experiment element\n",
    "    experiment = ET.SubElement(experiments, \"experiment\", \n",
    "                               name=experiment_name, \n",
    "                               repetitions=str(repetitions), \n",
    "                               runMetricsEveryStep=str(run_metrics_every_step).lower())\n",
    "    ET.indent(experiments)\n",
    "    \n",
    "    # Add setup and go commands\n",
    "    ET.SubElement(experiment, \"setup\").text = setup_command\n",
    "    ET.indent(experiment)\n",
    "    ET.SubElement(experiment, \"go\").text = go_command\n",
    "    ET.indent(experiment)\n",
    "    \n",
    "    # Add time limit\n",
    "    ET.SubElement(experiment, \"timeLimit\", steps=str(time_limit_steps))\n",
    "    ET.indent(experiment)\n",
    "\n",
    "    # Add metrics\n",
    "    for var in metrics:\n",
    "        ET.SubElement(experiment, \"metric\").text=var\n",
    "        ET.indent(experiment)    \n",
    "\n",
    "    # Add run metrics condition\n",
    "    ET.SubElement(experiment, \"runMetricsCondition\").text = run_metrics_condition\n",
    "    ET.indent(experiment)\n",
    "\n",
    "    # Add enumerated values\n",
    "    for var, values in enumerated_values.items():\n",
    "        evs = ET.SubElement(experiment, \"enumeratedValueSet\", variable=var)\n",
    "        for value in values:\n",
    "            ET.SubElement(evs, \"value\", value=str(value))\n",
    "            ET.indent(experiment)    \n",
    "    # Add stepped values\n",
    "    #for var, params in stepped_values.items():\n",
    "    #    ET.SubElement(experiment, \"steppedValueSet\", variable=var, first=str(params['first']), step=str(params['step']), last=str(params['last']))\n",
    "    #    ET.indent(experiment)\n",
    "    \n",
    "    # Create the tree and write to file\n",
    "    with open(filename, 'wb') as f:\n",
    "        f.write('<?xml version=\"1.0\" encoding=\"UTF-8\"?>\\n'.encode('utf8'))\n",
    "        f.write('<!DOCTYPE experiments SYSTEM \"behaviorspace.dtd\">\\n'.encode('utf8'))\n",
    "        ET.ElementTree(experiments).write(f, encoding=\"UTF-8\", xml_declaration=False,)"
   ]
  },
  {
   "cell_type": "code",
   "execution_count": 51,
   "metadata": {},
   "outputs": [],
   "source": [
    "# Example usage\n",
    "create_xml_file(filename=\"example.xml\", experiment_name=\"My Experiment\", repetitions=10, run_metrics_every_step=False,\n",
    "            setup_command=\"setup\", \n",
    "            go_command=\"go\", \n",
    "            time_limit_steps=10000, \n",
    "            metrics=[\"average-whale-hunt\",\"average-help-others\",\"average-fitness\"],\n",
    "            run_metrics_condition='ticks > 500',\n",
    "            enumerated_values= {\"mutation-prob\": [0.1]})"
   ]
  },
  {
   "cell_type": "code",
   "execution_count": 33,
   "metadata": {},
   "outputs": [],
   "source": [
    "# Split a variable range into a number of splits and sample for LHS\n",
    "def split_variable_range_and_sample(start,end,splits):\n",
    "    samples=list()\n",
    "    for (a,b) in zip(np.linspace(start,end,splits),np.linspace(start,end,splits)[1:]):\n",
    "        samples.append(np.random.uniform(a,b))\n",
    "    np.random.shuffle(samples)\n",
    "    return samples"
   ]
  },
  {
   "cell_type": "code",
   "execution_count": 37,
   "metadata": {},
   "outputs": [],
   "source": [
    "# Latin Hypercube Sampling\n",
    "def LHsampling(variables,samples):\n",
    "    # Create a dataframe with all the combinations of the variables\n",
    "    df = pd.DataFrame(index=range(samples))\n",
    "    for var, params in variables.items():\n",
    "        if params['type'] == 'range':\n",
    "            df[var] = split_variable_range_and_sample(params['start'],params['end'],samples+1)\n",
    "        elif params['type'] == 'list':\n",
    "            df[var] = np.random.choice(params['values'],samples)\n",
    "    return df"
   ]
  },
  {
   "cell_type": "code",
   "execution_count": 39,
   "metadata": {},
   "outputs": [],
   "source": [
    "kawesqar_parameters = {'mu-logistic-whaling-success': {'type': 'range', 'start': 0, 'end': 1.5},\n",
    "                        'whaling-harm-prob': {'type': 'range', 'start': 0, 'end': 1},\n",
    "                        'theta': {'type': 'range', 'start': 0, 'end': 1},\n",
    "                        'mutation-prob': {'type': 'range', 'start': 0, 'end': 1}}"
   ]
  },
  {
   "cell_type": "code",
   "execution_count": 42,
   "metadata": {},
   "outputs": [
    {
     "data": {
      "text/html": [
       "<div>\n",
       "<style scoped>\n",
       "    .dataframe tbody tr th:only-of-type {\n",
       "        vertical-align: middle;\n",
       "    }\n",
       "\n",
       "    .dataframe tbody tr th {\n",
       "        vertical-align: top;\n",
       "    }\n",
       "\n",
       "    .dataframe thead th {\n",
       "        text-align: right;\n",
       "    }\n",
       "</style>\n",
       "<table border=\"1\" class=\"dataframe\">\n",
       "  <thead>\n",
       "    <tr style=\"text-align: right;\">\n",
       "      <th></th>\n",
       "      <th>mu-logistic-whaling-success</th>\n",
       "      <th>whaling-harm-prob</th>\n",
       "      <th>theta</th>\n",
       "      <th>mutation-prob</th>\n",
       "    </tr>\n",
       "  </thead>\n",
       "  <tbody>\n",
       "    <tr>\n",
       "      <th>0</th>\n",
       "      <td>0.924209</td>\n",
       "      <td>0.822310</td>\n",
       "      <td>0.765205</td>\n",
       "      <td>0.057368</td>\n",
       "    </tr>\n",
       "    <tr>\n",
       "      <th>1</th>\n",
       "      <td>0.303722</td>\n",
       "      <td>0.143558</td>\n",
       "      <td>0.798391</td>\n",
       "      <td>0.489101</td>\n",
       "    </tr>\n",
       "    <tr>\n",
       "      <th>2</th>\n",
       "      <td>0.271685</td>\n",
       "      <td>0.162775</td>\n",
       "      <td>0.531135</td>\n",
       "      <td>0.045984</td>\n",
       "    </tr>\n",
       "    <tr>\n",
       "      <th>3</th>\n",
       "      <td>0.637534</td>\n",
       "      <td>0.366795</td>\n",
       "      <td>0.890892</td>\n",
       "      <td>0.610431</td>\n",
       "    </tr>\n",
       "    <tr>\n",
       "      <th>4</th>\n",
       "      <td>0.097664</td>\n",
       "      <td>0.796538</td>\n",
       "      <td>0.174340</td>\n",
       "      <td>0.693373</td>\n",
       "    </tr>\n",
       "  </tbody>\n",
       "</table>\n",
       "</div>"
      ],
      "text/plain": [
       "   mu-logistic-whaling-success  whaling-harm-prob     theta  mutation-prob\n",
       "0                     0.924209           0.822310  0.765205       0.057368\n",
       "1                     0.303722           0.143558  0.798391       0.489101\n",
       "2                     0.271685           0.162775  0.531135       0.045984\n",
       "3                     0.637534           0.366795  0.890892       0.610431\n",
       "4                     0.097664           0.796538  0.174340       0.693373"
      ]
     },
     "execution_count": 42,
     "metadata": {},
     "output_type": "execute_result"
    }
   ],
   "source": [
    "lhs=LHsampling(kawesqar_parameters,100)\n",
    "lhs.head()"
   ]
  },
  {
   "cell_type": "code",
   "execution_count": null,
   "metadata": {},
   "outputs": [],
   "source": []
  }
 ],
 "metadata": {
  "kernelspec": {
   "display_name": "nchml",
   "language": "python",
   "name": "python3"
  },
  "language_info": {
   "codemirror_mode": {
    "name": "ipython",
    "version": 3
   },
   "file_extension": ".py",
   "mimetype": "text/x-python",
   "name": "python",
   "nbconvert_exporter": "python",
   "pygments_lexer": "ipython3",
   "version": "3.11.7"
  }
 },
 "nbformat": 4,
 "nbformat_minor": 2
}
